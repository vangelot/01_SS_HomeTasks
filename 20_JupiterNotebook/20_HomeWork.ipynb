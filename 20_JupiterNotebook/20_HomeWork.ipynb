{
 "cells": [
  {
   "cell_type": "code",
   "execution_count": 30,
   "id": "2515e45e",
   "metadata": {},
   "outputs": [],
   "source": [
    "import random\n",
    "import time\n"
   ]
  },
  {
   "cell_type": "code",
   "execution_count": 14,
   "id": "2bd09dea",
   "metadata": {},
   "outputs": [
    {
     "name": "stdout",
     "output_type": "stream",
     "text": [
      "hello\n"
     ]
    }
   ],
   "source": [
    "print('hello')"
   ]
  },
  {
   "cell_type": "code",
   "execution_count": 7,
   "id": "1b7fdb30",
   "metadata": {
    "scrolled": true
   },
   "outputs": [
    {
     "data": {
      "text/plain": [
       "3"
      ]
     },
     "execution_count": 7,
     "metadata": {},
     "output_type": "execute_result"
    }
   ],
   "source": [
    "1+2"
   ]
  },
  {
   "cell_type": "markdown",
   "id": "b0a62675",
   "metadata": {},
   "source": [
    "# Table 1\n",
    "\n",
    "| year | rank| company | revenue | profit|\n",
    "|------|-----|----------|--------|--|\n",
    "| 1955 | 229 | Norton | 135.0 | N.A. |\n",
    "| 1955 | 291 | Schilitz Brewing | 100.0 | N.A. |\n",
    "| 1955 | 295 | Pacific Vegetable Oil | 97.9 | N.A. |\n",
    "| 1955 | 297 | Liebmann Breweries | 96.0 | N.A. |\n",
    "| 1955 | 353 | Minneapolis-Moline | 77.4 | N.A. |"
   ]
  },
  {
   "cell_type": "code",
   "execution_count": 18,
   "id": "58a99538",
   "metadata": {},
   "outputs": [],
   "source": [
    "def bubble_sort(_list):\n",
    "    arg = _list[:]\n",
    "    for i in range(len(_list)-1, 0, -1):\n",
    "        for index in range(0, i):\n",
    "            if arg[index] > arg[index + 1]:\n",
    "                arg[index], arg[index + 1] = arg[index + 1], arg[index]\n",
    "    return arg"
   ]
  },
  {
   "cell_type": "code",
   "execution_count": 19,
   "id": "2dfb5dc8",
   "metadata": {},
   "outputs": [],
   "source": [
    "def quick_sort(_list):\n",
    "    if len(_list) > 1:\n",
    "        pivot = random.choice(_list)\n",
    "        less = [x for x in _list if x < pivot]\n",
    "        greater = [x for x in _list if x > pivot]\n",
    "        equal = [x for x in _list if x == pivot]\n",
    "        return quick_sort(less) + equal + quick_sort(greater)\n",
    "    else:\n",
    "        return _list"
   ]
  },
  {
   "cell_type": "code",
   "execution_count": 20,
   "id": "b58427eb",
   "metadata": {},
   "outputs": [],
   "source": [
    "def list_filling(_type=\"int\", quantity=1):\n",
    "    _list = []\n",
    "    if quantity < 1 or type(quantity) != int:\n",
    "        print(\"!!! Wrong quantity !!!\")\n",
    "        return _list\n",
    "    if _type == \"int\":\n",
    "        for index in range(quantity):\n",
    "            _list.append(random.randint(0, 1000))\n",
    "    elif _type == \"float\":\n",
    "        for index in range(quantity):\n",
    "            _list.append(random.uniform(0.1, 100))\n",
    "#     elif _type == \"word\":\n",
    "#         w = RandomWords()\n",
    "#         for index in range(quantity):\n",
    "#             _list.append(w.random_word())\n",
    "    else:\n",
    "        print(\"!!! Wrong type !!!\")\n",
    "    return _list"
   ]
  },
  {
   "cell_type": "code",
   "execution_count": 24,
   "id": "a0ff917f",
   "metadata": {},
   "outputs": [],
   "source": [
    "def sort_speed(_list, sort_func, iteration_number=1):\n",
    "    start = time.time()\n",
    "    for i in range(iteration_number):\n",
    "        sort_func(_list)\n",
    "    return (time.time()-start) / iteration_number"
   ]
  },
  {
   "cell_type": "code",
   "execution_count": 40,
   "id": "48482e3d",
   "metadata": {},
   "outputs": [
    {
     "name": "stdout",
     "output_type": "stream",
     "text": [
      "15.7 ms ± 42.9 µs per loop (mean ± std. dev. of 7 runs, 100 loops each)\n"
     ]
    }
   ],
   "source": [
    "%%timeit\n",
    "str_list = list_filling(\"int\", 5000)\n",
    "float_list = list_filling(\"float\", 5000)\n",
    "# print(sort_speed(str_list, quick_sort, 20)*20)\n",
    "b = sort_speed(str_list, quick_sort, 1)\n",
    "# print('time = ', b)"
   ]
  },
  {
   "cell_type": "code",
   "execution_count": null,
   "id": "74f762c2",
   "metadata": {},
   "outputs": [],
   "source": []
  }
 ],
 "metadata": {
  "kernelspec": {
   "display_name": "Python 3 (ipykernel)",
   "language": "python",
   "name": "python3"
  },
  "language_info": {
   "codemirror_mode": {
    "name": "ipython",
    "version": 3
   },
   "file_extension": ".py",
   "mimetype": "text/x-python",
   "name": "python",
   "nbconvert_exporter": "python",
   "pygments_lexer": "ipython3",
   "version": "3.10.9"
  }
 },
 "nbformat": 4,
 "nbformat_minor": 5
}
